{
 "cells": [
  {
   "cell_type": "code",
   "execution_count": 1,
   "id": "c240854f",
   "metadata": {},
   "outputs": [],
   "source": [
    "import csv\n",
    "import pandas as pd\n",
    "import numpy as np\n",
    "import matplotlib.pyplot as plt\n",
    "import seaborn as sb\n",
    "\n",
    "from sklearn.model_selection import train_test_split\n",
    "from sklearn.model_selection import GridSearchCV\n",
    "from sklearn import metrics\n",
    "from sklearn.tree import DecisionTreeRegressor\n",
    "from sklearn.ensemble import RandomForestRegressor\n",
    "from sklearn.ensemble import ExtraTreesRegressor\n",
    "from sklearn.neural_network import MLPRegressor\n",
    "from math import sqrt\n",
    "from sklearn import model_selection\n",
    "from scipy.stats import spearmanr"
   ]
  },
  {
   "cell_type": "code",
   "execution_count": null,
   "id": "e42eade1",
   "metadata": {},
   "outputs": [],
   "source": [
    "inp_vectors = pd.read_csv(\"rand_forest.csv\")\n",
    "target_data = pd.read_csv('properties.csv')\n",
    "train_masks = []\n",
    "test_masks = []"
   ]
  },
  {
   "cell_type": "code",
   "execution_count": null,
   "id": "9de6f2fe",
   "metadata": {},
   "outputs": [],
   "source": [
    "db_cofs = inp_vectors[['cof']]\n",
    "db_cofs = np.squeeze(db_cofs.values)"
   ]
  },
  {
   "cell_type": "code",
   "execution_count": null,
   "id": "89d9505c",
   "metadata": {},
   "outputs": [],
   "source": [
    "db_traindata = inp_vectors[['ASA_m^2/g','Density','LS','B','O','C','H',\n",
    "                        'Si','N','S','Ni','Zn','Cu','Co','F','P','Cl','V','Br']]\n",
    "db_traindata = db_traindata.values"
   ]
  },
  {
   "cell_type": "code",
   "execution_count": null,
   "id": "de3c0abd",
   "metadata": {},
   "outputs": [],
   "source": [
    "for i in range(10):\n",
    "    obj = pd.read_pickle(r'splits/split_run_{}.pkl'.format(i))\n",
    "    train_masks.append(obj['masks']['train'])\n",
    "    test_masks.append(obj['masks']['test'])"
   ]
  },
  {
   "cell_type": "markdown",
   "id": "15db172e",
   "metadata": {},
   "source": [
    "First, remove the values in target that don't have valid graphs"
   ]
  },
  {
   "cell_type": "code",
   "execution_count": null,
   "id": "a0ac6840",
   "metadata": {},
   "outputs": [],
   "source": [
    "list1 = np.squeeze(target_data[['name']].values)\n",
    "list2 = db_cofs\n",
    "valid_list = list(set(list1).intersection(list2))"
   ]
  },
  {
   "cell_type": "code",
   "execution_count": null,
   "id": "0ef1e7af",
   "metadata": {},
   "outputs": [],
   "source": [
    "list2"
   ]
  },
  {
   "cell_type": "code",
   "execution_count": null,
   "id": "c90bf839",
   "metadata": {},
   "outputs": [],
   "source": [
    "target_data = target_data[['name','h2o_henry', 'h2s_henry', 'xe_henry', 'kr_henry', 'co2_0.001bar', 'o2_5bar', 'o2_140bar', 'co2_30bar', 'n2_0.001bar', 'n2_30bar', 'h2_77K_5bar', 'h2_77K_100bar', \n",
    "            'h2_298K_5bar', 'h2_298K_100bar', 'ch4_65bar', 'ch4_5.8bar']]\n",
    "target_data = target_data.values"
   ]
  },
  {
   "cell_type": "code",
   "execution_count": null,
   "id": "acd322b2",
   "metadata": {},
   "outputs": [],
   "source": [
    "target_data.shape"
   ]
  },
  {
   "cell_type": "code",
   "execution_count": null,
   "id": "7752012b",
   "metadata": {},
   "outputs": [],
   "source": [
    "removal = []\n",
    "for i,cof in enumerate(target_data):\n",
    "    if cof[0] not in valid_list:\n",
    "        removal.append(i)"
   ]
  },
  {
   "cell_type": "code",
   "execution_count": null,
   "id": "c5006b41",
   "metadata": {},
   "outputs": [],
   "source": [
    "target_data = np.delete(target_data, removal, 0)"
   ]
  },
  {
   "cell_type": "code",
   "execution_count": null,
   "id": "8570368b",
   "metadata": {},
   "outputs": [],
   "source": [
    "target_data.shape"
   ]
  },
  {
   "cell_type": "markdown",
   "id": "afed1771",
   "metadata": {},
   "source": [
    "Then, use the targets to produce an ordered set of input vectors"
   ]
  },
  {
   "cell_type": "code",
   "execution_count": null,
   "id": "37b99c99",
   "metadata": {},
   "outputs": [],
   "source": [
    "sorted_cofs = []\n",
    "for name in list2:\n",
    "    sorted_cofs.append(np.where(target_data[:,0] == name))\n",
    "sorted_cofs = np.squeeze(sorted_cofs)"
   ]
  },
  {
   "cell_type": "code",
   "execution_count": null,
   "id": "ed791382",
   "metadata": {},
   "outputs": [],
   "source": [
    "target_data = target_data[:,1:]"
   ]
  },
  {
   "cell_type": "code",
   "execution_count": null,
   "id": "41ca2e9d",
   "metadata": {},
   "outputs": [],
   "source": [
    "db_traindata = db_traindata[sorted_cofs]"
   ]
  },
  {
   "cell_type": "code",
   "execution_count": null,
   "id": "42d4d6da",
   "metadata": {},
   "outputs": [],
   "source": [
    "sorted_cofs[1]"
   ]
  },
  {
   "cell_type": "code",
   "execution_count": null,
   "id": "63f64e7f",
   "metadata": {},
   "outputs": [],
   "source": [
    "db_traindata.shape"
   ]
  },
  {
   "cell_type": "markdown",
   "id": "dbc92752",
   "metadata": {},
   "source": [
    "Seperate Training and Testing Sets"
   ]
  },
  {
   "cell_type": "code",
   "execution_count": null,
   "id": "e43b27a8",
   "metadata": {},
   "outputs": [],
   "source": [
    "train_ones = np.empty((16,10))\n",
    "test_ones = np.empty((16,10))"
   ]
  },
  {
   "cell_type": "code",
   "execution_count": null,
   "id": "3070b798",
   "metadata": {},
   "outputs": [],
   "source": [
    "for i in range(10):\n",
    "    for j in range(16):\n",
    "        train_ones[i][j] = np.where(train_masks[i][:,j] == 1)[0])\n",
    "        test_ones[i][j] = np.where(test_masks[i][:,j] == 1)[0])"
   ]
  },
  {
   "cell_type": "code",
   "execution_count": null,
   "id": "68ab215b",
   "metadata": {},
   "outputs": [],
   "source": [
    "train_inputs = np.empty((16,10))\n",
    "test_inputs = np.empty((16,10))\n",
    "train_outputs = np.empty((16,10))\n",
    "test_outputs = np.empty((16,10))"
   ]
  },
  {
   "cell_type": "code",
   "execution_count": null,
   "id": "c9a9fce3",
   "metadata": {},
   "outputs": [],
   "source": [
    "for i in range(10):\n",
    "    for j in range(16):\n",
    "        train_inputs[i][j] = np.array([db_traindata[i] for i in train_ones[i][j],dtype=np.float64)\n",
    "        test_inputs[i][j] = np.array([db_traindata[i] for i in test_ones[i][j],dtype=np.float64)\n",
    "        train_outputs[i][j] = np.array([target_data[i] for i in train_ones[i][j],dtype=np.float64)\n",
    "        test_outputs[i][j] = np.array([target_data[i] for i in test_ones[i][j],dtype=np.float64)"
   ]
  },
  {
   "cell_type": "markdown",
   "id": "fccd92fa",
   "metadata": {},
   "source": [
    "Standardize Targets"
   ]
  },
  {
   "cell_type": "code",
   "execution_count": null,
   "id": "7218a9bc",
   "metadata": {},
   "outputs": [],
   "source": [
    "#train_output_logged = np.zeros(train_output_0.shape)"
   ]
  },
  {
   "cell_type": "code",
   "execution_count": null,
   "id": "fa8b94c6",
   "metadata": {},
   "outputs": [],
   "source": [
    "#for i in range(16):\n",
    "#    train_output_logged[:,i] = np.log10(train_output_0[:,i])\n",
    "#train_output_0 = train_output_logged"
   ]
  },
  {
   "cell_type": "code",
   "execution_count": null,
   "id": "2fce465f",
   "metadata": {},
   "outputs": [],
   "source": [
    "means_0 = train_output_0.mean(axis=0)\n",
    "stds_0 = np.std(train_output_0, axis=0)"
   ]
  },
  {
   "cell_type": "code",
   "execution_count": null,
   "id": "9c2cf2b0",
   "metadata": {},
   "outputs": [],
   "source": [
    "z_train_0 = np.zeros((152,16))\n",
    "z_test_0 = np.zeros((414,16))"
   ]
  },
  {
   "cell_type": "code",
   "execution_count": null,
   "id": "4c40faaa",
   "metadata": {},
   "outputs": [],
   "source": [
    "for i,cof in enumerate(train_output_0):\n",
    "    for j,target in enumerate(cof):\n",
    "            z_train_0[i][j] = (train_output_0[i][j] - means_0[j])/ stds_0[j]\n",
    "        \n",
    "for i,cof in enumerate(test_output_0):\n",
    "    for j,target in enumerate(cof):        \n",
    "            z_test_0[i][j] = (test_output_0[i][j] - means_0[j])/ stds_0[j]"
   ]
  },
  {
   "cell_type": "markdown",
   "id": "9dde7d3f",
   "metadata": {},
   "source": [
    "Implement Random Forest Model"
   ]
  },
  {
   "cell_type": "code",
   "execution_count": null,
   "id": "3134f7f3",
   "metadata": {},
   "outputs": [],
   "source": [
    "target_name = ['h2o_henry', 'h2s_henry', 'xe_henry', 'kr_henry', 'co2_0.001bar', 'o2_5bar', 'o2_140bar', 'co2_30bar', 'n2_0.001bar', 'n2_30bar', 'h2_77K_5bar', 'h2_77K_100bar', \n",
    "            'h2_298K_5bar', 'h2_298K_100bar', 'ch4_65bar', 'ch4_5.8bar']"
   ]
  },
  {
   "cell_type": "code",
   "execution_count": null,
   "id": "a7688692",
   "metadata": {},
   "outputs": [],
   "source": [
    "for i in range(16):\n",
    "    Random_Forest = ExtraTreesRegressor(n_estimators = 200, random_state = 0, criterion = \"mse\", bootstrap = True, warm_start = True)\n",
    "    Random_Forest.fit(train_input_0, z_train_0[:,i])\n",
    "    test_pred = Random_Forest.predict(test_input_0)\n",
    "    print(target_name[i])\n",
    "    print('-------------')\n",
    "    print('Mean Absolute Error:', metrics.mean_absolute_error(z_test_0[:,i], test_pred))\n",
    "    print('Mean Squared Error:', metrics.mean_squared_error(z_test_0[:,i], test_pred ))\n",
    "    print('Root Mean Squared Error:', np.sqrt(metrics.mean_squared_error(z_test_0[:,i], test_pred)))\n",
    "    print('Spearman Correlation:', spearmanr(z_test_0[:,i], test_pred)[0]) \n",
    "    print('_____________________________________________\\n\\n')"
   ]
  }
 ],
 "metadata": {
  "kernelspec": {
   "display_name": "Python 3",
   "language": "python",
   "name": "python3"
  },
  "language_info": {
   "codemirror_mode": {
    "name": "ipython",
    "version": 3
   },
   "file_extension": ".py",
   "mimetype": "text/x-python",
   "name": "python",
   "nbconvert_exporter": "python",
   "pygments_lexer": "ipython3",
   "version": "3.8.5"
  }
 },
 "nbformat": 4,
 "nbformat_minor": 5
}
