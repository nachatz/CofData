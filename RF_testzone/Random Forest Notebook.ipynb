{
 "cells": [
  {
   "cell_type": "code",
   "execution_count": 1,
   "id": "c240854f",
   "metadata": {},
   "outputs": [],
   "source": [
    "import csv\n",
    "import pandas as pd\n",
    "import numpy as np\n",
    "import matplotlib.pyplot as plt\n",
    "import seaborn as sb\n",
    "\n",
    "from sklearn.model_selection import train_test_split\n",
    "from sklearn.model_selection import GridSearchCV\n",
    "from sklearn import metrics\n",
    "from sklearn.tree import DecisionTreeRegressor\n",
    "from sklearn.ensemble import RandomForestRegressor\n",
    "from sklearn.ensemble import ExtraTreesRegressor\n",
    "from sklearn.neural_network import MLPRegressor\n",
    "from math import sqrt\n",
    "from sklearn import model_selection\n",
    "from scipy.stats import spearmanr"
   ]
  },
  {
   "cell_type": "code",
   "execution_count": 2,
   "id": "e42eade1",
   "metadata": {},
   "outputs": [],
   "source": [
    "# Read Vectors Used as Input Features\n",
    "inp_vectors = pd.read_csv(\"rand_forest.csv\")\n",
    "# Read Vectors Used as Target Features\n",
    "target_data = pd.read_csv('properties.csv')\n",
    "# Prepare to Read Train and Testing Masks as Lists\n",
    "train_masks = []\n",
    "test_masks = []"
   ]
  },
  {
   "cell_type": "code",
   "execution_count": 3,
   "id": "9de6f2fe",
   "metadata": {},
   "outputs": [],
   "source": [
    "# Seperate the Names of Cofs from Dataframe\n",
    "# Use for future alignment of Target and Input DB order\n",
    "db_cofs = inp_vectors[['cof']]\n",
    "# Create Single Dimentional Array\n",
    "db_cofs = np.squeeze(db_cofs.values)"
   ]
  },
  {
   "cell_type": "code",
   "execution_count": 4,
   "id": "89d9505c",
   "metadata": {},
   "outputs": [],
   "source": [
    "# Seperate the Training Features from Names\n",
    "db_traindata = inp_vectors[['ASA_m^2/g','Density','LS','B','O','C','H',\n",
    "                        'Si','N','S','Ni','Zn','Cu','Co','F','P','Cl','V','Br']]\n",
    "# Convert to Arrays\n",
    "db_traindata = db_traindata.values"
   ]
  },
  {
   "cell_type": "code",
   "execution_count": 5,
   "id": "de3c0abd",
   "metadata": {},
   "outputs": [],
   "source": [
    "# Read in The Train and Test Masks from Seperate pkl Files\n",
    "# Stored in the './splits' directory\n",
    "for i in range(10):\n",
    "    # Read in Object from pkl\n",
    "    obj = pd.read_pickle(r'splits/split_run_{}.pkl'.format(i))\n",
    "    # Seperate Out Masks as Keys\n",
    "    train_masks.append(obj['masks']['train'])\n",
    "    test_masks.append(obj['masks']['test'])"
   ]
  },
  {
   "cell_type": "markdown",
   "id": "15db172e",
   "metadata": {},
   "source": [
    "First, remove the values in target that don't have valid graphs"
   ]
  },
  {
   "cell_type": "code",
   "execution_count": 6,
   "id": "a0ac6840",
   "metadata": {},
   "outputs": [],
   "source": [
    "# Convert Names from Targets and Inputs into lists\n",
    "# Then use set Overlap in order to determine values we don't need\n",
    "# Some are not present in splits because of Graph Bugs\n",
    "list1 = np.squeeze(target_data[['name']].values)\n",
    "list2 = db_cofs\n",
    "# valid_list is the list of overlapping (and thus valid) cofs\n",
    "valid_list = list(set(list1).intersection(list2))"
   ]
  },
  {
   "cell_type": "code",
   "execution_count": 7,
   "id": "c90bf839",
   "metadata": {},
   "outputs": [],
   "source": [
    "# Extract the targets from the Matrix Factorization paper\n",
    "target_data = target_data[['name','h2o_henry', 'h2s_henry', 'xe_henry', 'kr_henry', 'co2_0.001bar', 'o2_5bar', 'o2_140bar', 'co2_30bar', 'n2_0.001bar', 'n2_30bar', 'h2_77K_5bar', 'h2_77K_100bar', \n",
    "            'h2_298K_5bar', 'h2_298K_100bar', 'ch4_65bar', 'ch4_5.8bar']]\n",
    "# Convert to Arrays\n",
    "target_data = target_data.values"
   ]
  },
  {
   "cell_type": "code",
   "execution_count": 9,
   "id": "7752012b",
   "metadata": {},
   "outputs": [],
   "source": [
    "# Define a list called removal, this will hold indeces we need to remove\n",
    "removal = []\n",
    "# Sift through all of the target data\n",
    "for i,cof in enumerate(target_data):\n",
    "    # If the name is not valid, then add the index to the removal list\n",
    "    if cof[0] not in valid_list:\n",
    "        removal.append(i)"
   ]
  },
  {
   "cell_type": "code",
   "execution_count": 10,
   "id": "c5006b41",
   "metadata": {},
   "outputs": [],
   "source": [
    "# Now use the numpy delete function in order to remove values at those indeces\n",
    "# Now all of the target data is what we would like to use!\n",
    "target_data = np.delete(target_data, removal, 0)"
   ]
  },
  {
   "cell_type": "markdown",
   "id": "afed1771",
   "metadata": {},
   "source": [
    "Then, use the targets to produce an ordered set of input vectors"
   ]
  },
  {
   "cell_type": "code",
   "execution_count": 11,
   "id": "37b99c99",
   "metadata": {},
   "outputs": [],
   "source": [
    "# Make an empty list called sorted_cofs, which will hold indeces that we would like\n",
    "# to reorganize our list of training data to. \n",
    "sorted_cofs = []\n",
    "for name in list2:\n",
    "    # Find the index that we need to shift the current value to, based on the target organization\n",
    "    sorted_cofs.append(np.where(target_data[:,0] == name))\n",
    "# Make sure the dimentions are right\n",
    "sorted_cofs = np.squeeze(sorted_cofs)"
   ]
  },
  {
   "cell_type": "code",
   "execution_count": 12,
   "id": "ed791382",
   "metadata": {},
   "outputs": [],
   "source": [
    "# Now that we are organized, remove the names from the targets\n",
    "target_data = target_data[:,1:]"
   ]
  },
  {
   "cell_type": "code",
   "execution_count": 13,
   "id": "41ca2e9d",
   "metadata": {},
   "outputs": [],
   "source": [
    "# Shift the training data using the new indeces\n",
    "db_traindata = db_traindata[sorted_cofs]"
   ]
  },
  {
   "cell_type": "markdown",
   "id": "dbc92752",
   "metadata": {},
   "source": [
    "Seperate Training and Testing Sets"
   ]
  },
  {
   "cell_type": "code",
   "execution_count": 14,
   "id": "e43b27a8",
   "metadata": {},
   "outputs": [],
   "source": [
    "# Prepare a matrix of indeces, each one of the slots will hold an arrayu\n",
    "# of indeces in which the training set is contained for that target\n",
    "train_ones = np.empty((10,16), dtype=object)\n",
    "test_ones = np.empty((10,16), dtype=object)"
   ]
  },
  {
   "cell_type": "code",
   "execution_count": 15,
   "id": "3070b798",
   "metadata": {},
   "outputs": [],
   "source": [
    "# Now at each index, make a test and train set of indeces\n",
    "for i in range(10):\n",
    "    for j in range(16):\n",
    "        # Find all of the ones in the train mask, these indeces will be the training set\n",
    "        train_ones[i][j] = np.where(train_masks[i][:,j] == 1)[0]\n",
    "        # Find all of the ones in the test mask, these indeces will be the testing set\n",
    "        test_ones[i][j] = np.where(test_masks[i][:,j] == 1)[0]"
   ]
  },
  {
   "cell_type": "code",
   "execution_count": 16,
   "id": "68ab215b",
   "metadata": {},
   "outputs": [],
   "source": [
    "# Now prepare empty arrays that will hold the training set, and testing set, for each target and each split\n",
    "train_inputs = np.empty((10,16), dtype=object)\n",
    "test_inputs = np.empty((10,16), dtype=object)\n",
    "train_outputs = np.empty((10,16), dtype=object)\n",
    "test_outputs = np.empty((10,16), dtype=object)"
   ]
  },
  {
   "cell_type": "code",
   "execution_count": 17,
   "id": "c9a9fce3",
   "metadata": {},
   "outputs": [],
   "source": [
    "# Use the mask indeces we found before in order to generate training and testing sets\n",
    "for i in range(10):\n",
    "    for j in range(16):\n",
    "        # Regardless of target, we will get all of the input data\n",
    "        train_inputs[i][j] = np.array([db_traindata[i] for i in train_ones[i][j]],dtype=np.float64)\n",
    "        test_inputs[i][j] = np.array([db_traindata[i] for i in test_ones[i][j]],dtype=np.float64)\n",
    "        # On the output data, we will need an additional index to specify which target we are looking at\n",
    "        train_outputs[i][j] = np.array([target_data[i][j] for i in train_ones[i][j]],dtype=np.float64)\n",
    "        test_outputs[i][j] = np.array([target_data[i][j] for i in test_ones[i][j]],dtype=np.float64)"
   ]
  },
  {
   "cell_type": "markdown",
   "id": "fccd92fa",
   "metadata": {},
   "source": [
    "Standardize Targets"
   ]
  },
  {
   "cell_type": "code",
   "execution_count": 18,
   "id": "b98c0de3",
   "metadata": {},
   "outputs": [],
   "source": [
    "# Each index, since correlated to a target, will have a mean, and absolute deviation\n",
    "means = np.empty((10,16), dtype=np.float64)\n",
    "stdevs = np.empty((10,16), dtype=np.float64)"
   ]
  },
  {
   "cell_type": "code",
   "execution_count": 19,
   "id": "2fce465f",
   "metadata": {},
   "outputs": [],
   "source": [
    "# Calculate the mean and stdevs, then push into the corresponding slot\n",
    "for i in range(10):\n",
    "    for j in range(16):\n",
    "        means[i][j] = train_outputs[i][j].mean()\n",
    "        stdevs[i][j] = np.std(train_outputs[i][j])"
   ]
  },
  {
   "cell_type": "code",
   "execution_count": 20,
   "id": "9c2cf2b0",
   "metadata": {},
   "outputs": [],
   "source": [
    "# Create arrays to store the standardized (z-score) version of the training and testing outputs\n",
    "train_outputs_z = np.empty((10,16), dtype=object)\n",
    "test_outputs_z = np.empty((10,16), dtype=object)"
   ]
  },
  {
   "cell_type": "code",
   "execution_count": 21,
   "id": "4c40faaa",
   "metadata": {},
   "outputs": [],
   "source": [
    "# Basic Standardization Procedure, dimentions of outputs do not change\n",
    "for i in range(10):\n",
    "    for j in range(16):\n",
    "        train_outputs_z[i][j] = (train_outputs[i][j] - means[i][j]) / stdevs[i][j]\n",
    "        test_outputs_z[i][j] = (test_outputs[i][j] - means[i][j]) / stdevs[i][j]"
   ]
  },
  {
   "cell_type": "markdown",
   "id": "9dde7d3f",
   "metadata": {},
   "source": [
    "Implement Random Forest Model"
   ]
  },
  {
   "cell_type": "code",
   "execution_count": 22,
   "id": "3134f7f3",
   "metadata": {},
   "outputs": [],
   "source": [
    "# Create a variable of the target names for ease of printing\n",
    "target_name = ['h2o_henry', 'h2s_henry', 'xe_henry', 'kr_henry', 'co2_0.001bar', 'o2_5bar', 'o2_140bar', 'co2_30bar', 'n2_0.001bar', 'n2_30bar', 'h2_77K_5bar', 'h2_77K_100bar', \n",
    "            'h2_298K_5bar', 'h2_298K_100bar', 'ch4_65bar', 'ch4_5.8bar']"
   ]
  },
  {
   "cell_type": "code",
   "execution_count": 33,
   "id": "38e09f72",
   "metadata": {},
   "outputs": [],
   "source": [
    "# Get ready to store all of the performance metric for each test that is run\n",
    "MAEs = np.empty((10,16), dtype=np.float64)\n",
    "SPRs = np.empty((10,16), dtype=np.float64)\n",
    "MSEs = np.empty((10,16), dtype=np.float64)\n",
    "RMSEs = np.empty((10,16), dtype=np.float64)"
   ]
  },
  {
   "cell_type": "code",
   "execution_count": 30,
   "id": "a7688692",
   "metadata": {},
   "outputs": [
    {
     "name": "stdout",
     "output_type": "stream",
     "text": [
      "Epoch:  0\n",
      "Epoch:  1\n",
      "Epoch:  2\n",
      "Epoch:  3\n",
      "Epoch:  4\n",
      "Epoch:  5\n",
      "Epoch:  6\n",
      "Epoch:  7\n",
      "Epoch:  8\n",
      "Epoch:  9\n"
     ]
    }
   ],
   "source": [
    "# Now run all 10 x 16 tests in sequence, using the test and train splits we made\n",
    "for i in range(10):\n",
    "    # Print the epoch to get some idea of what is going on\n",
    "    print(\"Epoch: \", i)\n",
    "    for j in range(16):\n",
    "        # Instanciate the model, baseline model taken from another project (for now)\n",
    "        Random_Forest = ExtraTreesRegressor(n_estimators = 200, random_state = 0, criterion = \"absolute_error\", bootstrap = True, warm_start = True)\n",
    "        # Fit the model using the inputs and zscored outputs\n",
    "        Random_Forest.fit(train_inputs[i][j], train_outputs_z[i][j])\n",
    "        # Make predictions using test inputs\n",
    "        test_preds = Random_Forest.predict(test_inputs[i][j])\n",
    "        # Find the metrics\n",
    "        MAEs[i][j] = metrics.mean_absolute_error(test_outputs_z[i][j], test_preds)\n",
    "        SPRs[i][j] = spearmanr(test_outputs_z[i][j], test_preds)[0]\n",
    "        MSEs[i][j] = metrics.mean_squared_error(test_outputs_z[i][j], test_preds)\n",
    "        RMSEs[i][j] = np.sqrt(metrics.mean_squared_error(test_preds, test_outputs_z[i][j]))"
   ]
  },
  {
   "cell_type": "code",
   "execution_count": 31,
   "id": "97df5bc9",
   "metadata": {},
   "outputs": [],
   "source": [
    "# Take averages over the 10 runs for each target\n",
    "MAEs = MAEs.mean(axis=0)\n",
    "SPRs = SPRs.mean(axis=0)\n",
    "MSEs = MSEs.mean(axis=0)\n",
    "RMSEs = RMSEs.mean(axis=0)"
   ]
  },
  {
   "cell_type": "code",
   "execution_count": 32,
   "id": "433aaceb",
   "metadata": {},
   "outputs": [
    {
     "name": "stdout",
     "output_type": "stream",
     "text": [
      "Printing Details for Target:  h2o_henry\n",
      "---------------------------\n",
      "Average MAE:  0.3166809137995439\n",
      "Average MSE:  2.264971186212118\n",
      "Average SPR:  0.016785990745714713\n",
      "Average RMSE:  1.2856965641940135\n",
      "________________________________________________\n",
      "\n",
      "\n",
      "Printing Details for Target:  h2s_henry\n",
      "---------------------------\n",
      "Average MAE:  0.580170370886459\n",
      "Average MSE:  1.6392833640760955\n",
      "Average SPR:  -0.08200417496841512\n",
      "Average RMSE:  1.2532152305004058\n",
      "________________________________________________\n",
      "\n",
      "\n",
      "Printing Details for Target:  xe_henry\n",
      "---------------------------\n",
      "Average MAE:  0.3685351077190487\n",
      "Average MSE:  1.1695057680275134\n",
      "Average SPR:  -0.016138672616099435\n",
      "Average RMSE:  0.9720931988651372\n",
      "________________________________________________\n",
      "\n",
      "\n",
      "Printing Details for Target:  kr_henry\n",
      "---------------------------\n",
      "Average MAE:  0.6318335388739145\n",
      "Average MSE:  1.4609884563782087\n",
      "Average SPR:  -0.02828827714716467\n",
      "Average RMSE:  1.1887101911178826\n",
      "________________________________________________\n",
      "\n",
      "\n",
      "Printing Details for Target:  co2_0.001bar\n",
      "---------------------------\n",
      "Average MAE:  0.5183998153468641\n",
      "Average MSE:  2.988908081180189\n",
      "Average SPR:  -0.00924349930258884\n",
      "Average RMSE:  1.5683521143774974\n",
      "________________________________________________\n",
      "\n",
      "\n",
      "Printing Details for Target:  o2_5bar\n",
      "---------------------------\n",
      "Average MAE:  0.7808615829951633\n",
      "Average MSE:  1.2411417847256072\n",
      "Average SPR:  0.06661454985377631\n",
      "Average RMSE:  1.1099232701093449\n",
      "________________________________________________\n",
      "\n",
      "\n",
      "Printing Details for Target:  o2_140bar\n",
      "---------------------------\n",
      "Average MAE:  0.7089585603075741\n",
      "Average MSE:  1.2539110692147428\n",
      "Average SPR:  -0.0533515735102215\n",
      "Average RMSE:  1.1085548530957658\n",
      "________________________________________________\n",
      "\n",
      "\n",
      "Printing Details for Target:  co2_30bar\n",
      "---------------------------\n",
      "Average MAE:  0.7325003067968565\n",
      "Average MSE:  1.0993795937910218\n",
      "Average SPR:  -0.0323376272421092\n",
      "Average RMSE:  1.0401594580784619\n",
      "________________________________________________\n",
      "\n",
      "\n",
      "Printing Details for Target:  n2_0.001bar\n",
      "---------------------------\n",
      "Average MAE:  0.7435118378158003\n",
      "Average MSE:  1.1129728865230786\n",
      "Average SPR:  0.04877420954510387\n",
      "Average RMSE:  1.0477228279966853\n",
      "________________________________________________\n",
      "\n",
      "\n",
      "Printing Details for Target:  n2_30bar\n",
      "---------------------------\n",
      "Average MAE:  0.7219148769120276\n",
      "Average MSE:  1.1318072184939152\n",
      "Average SPR:  -0.022540735561408294\n",
      "Average RMSE:  1.0580445536971792\n",
      "________________________________________________\n",
      "\n",
      "\n",
      "Printing Details for Target:  h2_77K_5bar\n",
      "---------------------------\n",
      "Average MAE:  0.7699845644634786\n",
      "Average MSE:  1.173739818287811\n",
      "Average SPR:  0.016456064622147798\n",
      "Average RMSE:  1.0757252855277457\n",
      "________________________________________________\n",
      "\n",
      "\n",
      "Printing Details for Target:  h2_77K_100bar\n",
      "---------------------------\n",
      "Average MAE:  0.6951495071104015\n",
      "Average MSE:  1.3107900337313725\n",
      "Average SPR:  -0.02860161595910047\n",
      "Average RMSE:  1.1276312687447843\n",
      "________________________________________________\n",
      "\n",
      "\n",
      "Printing Details for Target:  h2_298K_5bar\n",
      "---------------------------\n",
      "Average MAE:  0.7032301127599473\n",
      "Average MSE:  1.2727159734432445\n",
      "Average SPR:  -0.06862137574101079\n",
      "Average RMSE:  1.1176919210239846\n",
      "________________________________________________\n",
      "\n",
      "\n",
      "Printing Details for Target:  h2_298K_100bar\n",
      "---------------------------\n",
      "Average MAE:  0.6525489020662367\n",
      "Average MSE:  1.0956231082517056\n",
      "Average SPR:  -0.07023345357981507\n",
      "Average RMSE:  1.0329646681180136\n",
      "________________________________________________\n",
      "\n",
      "\n",
      "Printing Details for Target:  ch4_65bar\n",
      "---------------------------\n",
      "Average MAE:  0.7398261871669987\n",
      "Average MSE:  1.2929056327740636\n",
      "Average SPR:  -0.021136067910339805\n",
      "Average RMSE:  1.1320906637166996\n",
      "________________________________________________\n",
      "\n",
      "\n",
      "Printing Details for Target:  ch4_5.8bar\n",
      "---------------------------\n",
      "Average MAE:  0.7381634348774241\n",
      "Average MSE:  1.0258333192382496\n",
      "Average SPR:  0.009177671631893328\n",
      "Average RMSE:  1.0098871689778754\n",
      "________________________________________________\n",
      "\n",
      "\n",
      "Overall Averages\n",
      "****************************************\n",
      "MAE:  0.6501418512436086\n",
      "MSE:  1.4084048308968087\n",
      "SPR:  -0.017168036696227323\n",
      "RMSE:  1.1330289523838424\n",
      "***************************************:)\n"
     ]
    }
   ],
   "source": [
    "# Tell the user what is going on\n",
    "for i in range(16):\n",
    "    print(\"Printing Details for Target: \", target_name[i])\n",
    "    print(\"---------------------------\")\n",
    "    print(\"Average MAE: \", MAEs[i])\n",
    "    print(\"Average MSE: \", MSEs[i])\n",
    "    print(\"Average SPR: \", SPRs[i])\n",
    "    print(\"Average RMSE: \", RMSEs[i])\n",
    "    print(\"________________________________________________\\n\\n\")\n",
    "    \n",
    "print(\"Overall Averages\")\n",
    "print(\"****************************************\")\n",
    "print(\"MAE: \", MAEs.mean())\n",
    "print(\"MSE: \", MSEs.mean())\n",
    "print(\"SPR: \", SPRs.mean())\n",
    "print(\"RMSE: \", RMSEs.mean())\n",
    "print(\"***************************************:)\")"
   ]
  }
 ],
 "metadata": {
  "kernelspec": {
   "display_name": "Python 3 (ipykernel)",
   "language": "python",
   "name": "python3"
  },
  "language_info": {
   "codemirror_mode": {
    "name": "ipython",
    "version": 3
   },
   "file_extension": ".py",
   "mimetype": "text/x-python",
   "name": "python",
   "nbconvert_exporter": "python",
   "pygments_lexer": "ipython3",
   "version": "3.9.12"
  }
 },
 "nbformat": 4,
 "nbformat_minor": 5
}
